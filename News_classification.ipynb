{
 "cells": [
  {
   "cell_type": "code",
   "execution_count": 1,
   "metadata": {
    "colab": {},
    "colab_type": "code",
    "id": "owd_jTUXcjkI"
   },
   "outputs": [],
   "source": [
    "import torch\n",
    "import utils\n",
    "import torch.nn as nn\n",
    "import matplotlib.pyplot as plt\n",
    "import seaborn as sns\n",
    "from model import LSTM, train\n",
    "from score import classify\n",
    "import numpy as np\n",
    "import pickle\n",
    "device = torch.device('cuda' if torch.cuda.is_available() else 'cpu')\n",
    "sns.set(rc={'figure.figsize':(20,8)})"
   ]
  },
  {
   "cell_type": "markdown",
   "metadata": {
    "colab_type": "text",
    "id": "CMpQnlRVfyvN"
   },
   "source": [
    "# Preprocess"
   ]
  },
  {
   "cell_type": "code",
   "execution_count": 2,
   "metadata": {
    "colab": {
     "base_uri": "https://localhost:8080/",
     "height": 391
    },
    "colab_type": "code",
    "id": "Ur5TnW9BcjkM",
    "outputId": "0a3d3dd8-d29a-4db8-a18b-db73d87c09e4"
   },
   "outputs": [
    {
     "data": {
      "text/html": [
       "<div>\n",
       "<style scoped>\n",
       "    .dataframe tbody tr th:only-of-type {\n",
       "        vertical-align: middle;\n",
       "    }\n",
       "\n",
       "    .dataframe tbody tr th {\n",
       "        vertical-align: top;\n",
       "    }\n",
       "\n",
       "    .dataframe thead th {\n",
       "        text-align: right;\n",
       "    }\n",
       "</style>\n",
       "<table border=\"1\" class=\"dataframe\">\n",
       "  <thead>\n",
       "    <tr style=\"text-align: right;\">\n",
       "      <th></th>\n",
       "      <th>Class Index</th>\n",
       "      <th>Description</th>\n",
       "      <th>Class</th>\n",
       "    </tr>\n",
       "  </thead>\n",
       "  <tbody>\n",
       "    <tr>\n",
       "      <th>0</th>\n",
       "      <td>2</td>\n",
       "      <td>Reuters - Short-sellers, Wall Street's dwindli...</td>\n",
       "      <td>Business</td>\n",
       "    </tr>\n",
       "    <tr>\n",
       "      <th>1</th>\n",
       "      <td>2</td>\n",
       "      <td>Reuters - Private investment firm Carlyle Grou...</td>\n",
       "      <td>Business</td>\n",
       "    </tr>\n",
       "    <tr>\n",
       "      <th>2</th>\n",
       "      <td>2</td>\n",
       "      <td>Reuters - Soaring crude prices plus worries\\ab...</td>\n",
       "      <td>Business</td>\n",
       "    </tr>\n",
       "    <tr>\n",
       "      <th>3</th>\n",
       "      <td>2</td>\n",
       "      <td>Reuters - Authorities have halted oil export\\f...</td>\n",
       "      <td>Business</td>\n",
       "    </tr>\n",
       "    <tr>\n",
       "      <th>4</th>\n",
       "      <td>2</td>\n",
       "      <td>AFP - Tearaway world oil prices, toppling reco...</td>\n",
       "      <td>Business</td>\n",
       "    </tr>\n",
       "  </tbody>\n",
       "</table>\n",
       "</div>"
      ],
      "text/plain": [
       "   Class Index                                        Description     Class\n",
       "0            2  Reuters - Short-sellers, Wall Street's dwindli...  Business\n",
       "1            2  Reuters - Private investment firm Carlyle Grou...  Business\n",
       "2            2  Reuters - Soaring crude prices plus worries\\ab...  Business\n",
       "3            2  Reuters - Authorities have halted oil export\\f...  Business\n",
       "4            2  AFP - Tearaway world oil prices, toppling reco...  Business"
      ]
     },
     "metadata": {},
     "output_type": "display_data"
    },
    {
     "data": {
      "text/html": [
       "<div>\n",
       "<style scoped>\n",
       "    .dataframe tbody tr th:only-of-type {\n",
       "        vertical-align: middle;\n",
       "    }\n",
       "\n",
       "    .dataframe tbody tr th {\n",
       "        vertical-align: top;\n",
       "    }\n",
       "\n",
       "    .dataframe thead th {\n",
       "        text-align: right;\n",
       "    }\n",
       "</style>\n",
       "<table border=\"1\" class=\"dataframe\">\n",
       "  <thead>\n",
       "    <tr style=\"text-align: right;\">\n",
       "      <th></th>\n",
       "      <th>Class Index</th>\n",
       "      <th>Description</th>\n",
       "      <th>Class</th>\n",
       "    </tr>\n",
       "  </thead>\n",
       "  <tbody>\n",
       "    <tr>\n",
       "      <th>0</th>\n",
       "      <td>2</td>\n",
       "      <td>Unions representing workers at Turner   Newall...</td>\n",
       "      <td>Business</td>\n",
       "    </tr>\n",
       "    <tr>\n",
       "      <th>1</th>\n",
       "      <td>3</td>\n",
       "      <td>SPACE.com - TORONTO, Canada -- A second\\team o...</td>\n",
       "      <td>Sci/Tech</td>\n",
       "    </tr>\n",
       "    <tr>\n",
       "      <th>2</th>\n",
       "      <td>3</td>\n",
       "      <td>AP - A company founded by a chemistry research...</td>\n",
       "      <td>Sci/Tech</td>\n",
       "    </tr>\n",
       "    <tr>\n",
       "      <th>3</th>\n",
       "      <td>3</td>\n",
       "      <td>AP - It's barely dawn when Mike Fitzpatrick st...</td>\n",
       "      <td>Sci/Tech</td>\n",
       "    </tr>\n",
       "    <tr>\n",
       "      <th>4</th>\n",
       "      <td>3</td>\n",
       "      <td>AP - Southern California's smog-fighting agenc...</td>\n",
       "      <td>Sci/Tech</td>\n",
       "    </tr>\n",
       "  </tbody>\n",
       "</table>\n",
       "</div>"
      ],
      "text/plain": [
       "   Class Index                                        Description     Class\n",
       "0            2  Unions representing workers at Turner   Newall...  Business\n",
       "1            3  SPACE.com - TORONTO, Canada -- A second\\team o...  Sci/Tech\n",
       "2            3  AP - A company founded by a chemistry research...  Sci/Tech\n",
       "3            3  AP - It's barely dawn when Mike Fitzpatrick st...  Sci/Tech\n",
       "4            3  AP - Southern California's smog-fighting agenc...  Sci/Tech"
      ]
     },
     "metadata": {},
     "output_type": "display_data"
    }
   ],
   "source": [
    "train_set = utils.load_dataset('data/train.csv')\n",
    "test_set = utils.load_dataset('data/test.csv')\n",
    "display(train_set.head())\n",
    "display(test_set.head())"
   ]
  },
  {
   "cell_type": "code",
   "execution_count": 3,
   "metadata": {
    "colab": {
     "base_uri": "https://localhost:8080/",
     "height": 518
    },
    "colab_type": "code",
    "id": "3Af8pyrFcjkQ",
    "outputId": "86d89659-e8f0-4d53-bf0b-bb2507a4ed9c"
   },
   "outputs": [
    {
     "data": {
      "image/png": "[encoded data removed]",
      "text/plain": [
       "<Figure size 1440x576 with 2 Axes>"
      ]
     },
     "metadata": {},
     "output_type": "display_data"
    }
   ],
   "source": [
    "fig, ax =plt.subplots(1,2)\n",
    "\n",
    "\n",
    "plot = sns.countplot(train_set['Class Index'], data=train_set, hue='Class', ax=ax[0]).set_title('Training')\n",
    "plot = sns.countplot(test_set['Class Index'], data=test_set, hue='Class', ax=ax[1]).set_title('Testing')"
   ]
  },
  {
   "cell_type": "code",
   "execution_count": 4,
   "metadata": {
    "colab": {},
    "colab_type": "code",
    "id": "cPClkg3mcjkU"
   },
   "outputs": [],
   "source": [
    "x_train = train_set['Description'].values.tolist()\n",
    "y_train = train_set['Class Index'].values.tolist()\n",
    "x_test = test_set['Description'].values.tolist()\n",
    "y_test = test_set['Class Index'].values.tolist()\n",
    "\n",
    "vocab = utils.Vocabulary(x_train, y_train)\n",
    "\n",
    "\n",
    "save vocab for later use\n",
    "with open(\"data/vocab.pkl\",\"wb\") as f:\n",
    "    pickle.dump(vocab, f)\n",
    "vocab = pickle.load( open( \"data/vocab.pkl\", \"rb\" ) )"
   ]
  },
  {
   "cell_type": "code",
   "execution_count": 5,
   "metadata": {
    "colab": {},
    "colab_type": "code",
    "id": "ufA3AwVmcjkW"
   },
   "outputs": [],
   "source": [
    "BATCH = 500\n",
    "train_loader, validation_loader = utils.build_dataloader(vocab, batch_size=BATCH, split=True, train_size=0.9)"
   ]
  },
  {
   "cell_type": "markdown",
   "metadata": {
    "colab_type": "text",
    "id": "QAeVi0SkgLSS"
   },
   "source": [
    "# Build Model"
   ]
  },
  {
   "cell_type": "code",
   "execution_count": 6,
   "metadata": {
    "colab": {
     "base_uri": "https://localhost:8080/",
     "height": 102
    },
    "colab_type": "code",
    "id": "HLnbtKaUcjkY",
    "outputId": "de1d8139-0d6b-4a36-a2c1-669b438ba548"
   },
   "outputs": [
    {
     "data": {
      "text/plain": [
       "LSTM(\n",
       "  (embed): Embedding(60432, 100)\n",
       "  (lstm): LSTM(100, 124, num_layers=5, batch_first=True, bidirectional=True)\n",
       "  (fc1): Linear(in_features=124, out_features=4, bias=True)\n",
       ")"
      ]
     },
     "execution_count": 6,
     "metadata": {
      "tags": []
     },
     "output_type": "execute_result"
    }
   ],
   "source": [
    "model = LSTM(\n",
    "    hidden_size=vocab.max_seq_len,\n",
    "    vocab_size=len(vocab.word2index),\n",
    "    n_layers=5,\n",
    "    output_size=len(vocab.labels_list),\n",
    ")\n",
    "model.to(device)"
   ]
  },
  {
   "cell_type": "code",
   "execution_count": 7,
   "metadata": {
    "colab": {},
    "colab_type": "code",
    "id": "oUmae3lLcjka"
   },
   "outputs": [],
   "source": [
    "#define criterion and optimizer\n",
    "criterion = nn.CrossEntropyLoss()\n",
    "optimizer = torch.optim.Adam(model.parameters(), lr=0.001)"
   ]
  },
  {
   "cell_type": "markdown",
   "metadata": {
    "colab_type": "text",
    "id": "rop-DNQ7gSZ2"
   },
   "source": [
    "# Train"
   ]
  },
  {
   "cell_type": "code",
   "execution_count": 8,
   "metadata": {
    "colab": {
     "base_uri": "https://localhost:8080/",
     "height": 1000
    },
    "colab_type": "code",
    "id": "Wc-P-2I-cjkc",
    "outputId": "d8787152-ca1a-45a8-9b8a-10688e16eff7"
   },
   "outputs": [
    {
     "name": "stderr",
     "output_type": "stream",
     "text": [
      "Training loss: 0.48704490065574646: 100%|██████████| 216/216 [01:55<00:00,  1.87it/s]\n",
      "  0%|          | 0/216 [00:00<?, ?it/s]"
     ]
    },
    {
     "name": "stdout",
     "output_type": "stream",
     "text": [
      "Epoch: 0\tTraining Loss: 0.487045\tValidation Loss: 0.568578\n",
      " Training Accuracy: 52.796296\tValidation Accuracy: 79.216667\n",
      "Validation accuracy increased...........\n",
      "saving model\n"
     ]
    },
    {
     "name": "stderr",
     "output_type": "stream",
     "text": [
      "Training loss: 0.36427730321884155: 100%|██████████| 216/216 [01:56<00:00,  1.86it/s]\n",
      "  0%|          | 0/216 [00:00<?, ?it/s]"
     ]
    },
    {
     "name": "stdout",
     "output_type": "stream",
     "text": [
      "Epoch: 1\tTraining Loss: 0.364277\tValidation Loss: 0.355088\n",
      " Training Accuracy: 85.516667\tValidation Accuracy: 86.958333\n",
      "Validation accuracy increased...........\n",
      "saving model\n"
     ]
    },
    {
     "name": "stderr",
     "output_type": "stream",
     "text": [
      "Training loss: 0.3560452163219452: 100%|██████████| 216/216 [01:56<00:00,  1.86it/s]\n",
      "  0%|          | 0/216 [00:00<?, ?it/s]"
     ]
    },
    {
     "name": "stdout",
     "output_type": "stream",
     "text": [
      "Epoch: 2\tTraining Loss: 0.356045\tValidation Loss: 0.359267\n",
      " Training Accuracy: 89.925926\tValidation Accuracy: 88.350000\n",
      "Validation accuracy increased...........\n",
      "saving model\n"
     ]
    },
    {
     "name": "stderr",
     "output_type": "stream",
     "text": [
      "Training loss: 0.2832821011543274: 100%|██████████| 216/216 [01:56<00:00,  1.86it/s]\n",
      "  0%|          | 0/216 [00:00<?, ?it/s]"
     ]
    },
    {
     "name": "stdout",
     "output_type": "stream",
     "text": [
      "Epoch: 3\tTraining Loss: 0.283282\tValidation Loss: 0.377349\n",
      " Training Accuracy: 92.069444\tValidation Accuracy: 88.566667\n",
      "Validation accuracy increased...........\n",
      "saving model\n"
     ]
    },
    {
     "name": "stderr",
     "output_type": "stream",
     "text": [
      "Training loss: 0.1856556236743927: 100%|██████████| 216/216 [01:56<00:00,  1.86it/s]\n",
      "  0%|          | 0/216 [00:00<?, ?it/s]"
     ]
    },
    {
     "name": "stdout",
     "output_type": "stream",
     "text": [
      "Epoch: 4\tTraining Loss: 0.185656\tValidation Loss: 0.410980\n",
      " Training Accuracy: 93.576852\tValidation Accuracy: 88.900000\n",
      "Validation accuracy increased...........\n",
      "saving model\n"
     ]
    },
    {
     "name": "stderr",
     "output_type": "stream",
     "text": [
      "Training loss: 0.21383151412010193: 100%|██████████| 216/216 [01:56<00:00,  1.86it/s]\n",
      "  0%|          | 0/216 [00:00<?, ?it/s]"
     ]
    },
    {
     "name": "stdout",
     "output_type": "stream",
     "text": [
      "Epoch: 5\tTraining Loss: 0.213832\tValidation Loss: 0.458900\n",
      " Training Accuracy: 94.700000\tValidation Accuracy: 88.725000\n"
     ]
    },
    {
     "name": "stderr",
     "output_type": "stream",
     "text": [
      "Training loss: 0.14603601396083832: 100%|██████████| 216/216 [01:56<00:00,  1.86it/s]\n",
      "  0%|          | 0/216 [00:00<?, ?it/s]"
     ]
    },
    {
     "name": "stdout",
     "output_type": "stream",
     "text": [
      "Epoch: 6\tTraining Loss: 0.146036\tValidation Loss: 0.549939\n",
      " Training Accuracy: 95.625926\tValidation Accuracy: 89.008333\n",
      "Validation accuracy increased...........\n",
      "saving model\n"
     ]
    },
    {
     "name": "stderr",
     "output_type": "stream",
     "text": [
      "Training loss: 0.12317022681236267: 100%|██████████| 216/216 [01:56<00:00,  1.86it/s]\n",
      "  0%|          | 0/216 [00:00<?, ?it/s]"
     ]
    },
    {
     "name": "stdout",
     "output_type": "stream",
     "text": [
      "Epoch: 7\tTraining Loss: 0.123170\tValidation Loss: 0.424461\n",
      " Training Accuracy: 96.297222\tValidation Accuracy: 88.783333\n"
     ]
    },
    {
     "name": "stderr",
     "output_type": "stream",
     "text": [
      "Training loss: 0.09870313107967377: 100%|██████████| 216/216 [01:56<00:00,  1.86it/s]\n",
      "  0%|          | 0/216 [00:00<?, ?it/s]"
     ]
    },
    {
     "name": "stdout",
     "output_type": "stream",
     "text": [
      "Epoch: 8\tTraining Loss: 0.098703\tValidation Loss: 0.401816\n",
      " Training Accuracy: 96.804630\tValidation Accuracy: 88.858333\n"
     ]
    },
    {
     "name": "stderr",
     "output_type": "stream",
     "text": [
      "Training loss: 0.11765355616807938: 100%|██████████| 216/216 [01:56<00:00,  1.86it/s]\n",
      "  0%|          | 0/216 [00:00<?, ?it/s]"
     ]
    },
    {
     "name": "stdout",
     "output_type": "stream",
     "text": [
      "Epoch: 9\tTraining Loss: 0.117654\tValidation Loss: 0.402938\n",
      " Training Accuracy: 97.239815\tValidation Accuracy: 88.741667\n"
     ]
    },
    {
     "name": "stderr",
     "output_type": "stream",
     "text": [
      "Training loss: 0.07679221034049988: 100%|██████████| 216/216 [01:56<00:00,  1.86it/s]\n",
      "  0%|          | 0/216 [00:00<?, ?it/s]"
     ]
    },
    {
     "name": "stdout",
     "output_type": "stream",
     "text": [
      "Epoch: 10\tTraining Loss: 0.076792\tValidation Loss: 0.547253\n",
      " Training Accuracy: 97.541667\tValidation Accuracy: 88.641667\n"
     ]
    },
    {
     "name": "stderr",
     "output_type": "stream",
     "text": [
      "Training loss: 0.07624614238739014: 100%|██████████| 216/216 [01:56<00:00,  1.86it/s]\n",
      "  0%|          | 0/216 [00:00<?, ?it/s]"
     ]
    },
    {
     "name": "stdout",
     "output_type": "stream",
     "text": [
      "Epoch: 11\tTraining Loss: 0.076246\tValidation Loss: 0.518905\n",
      " Training Accuracy: 97.849074\tValidation Accuracy: 88.616667\n"
     ]
    },
    {
     "name": "stderr",
     "output_type": "stream",
     "text": [
      "Training loss: 0.05959052965044975: 100%|██████████| 216/216 [01:56<00:00,  1.86it/s]\n",
      "  0%|          | 0/216 [00:00<?, ?it/s]"
     ]
    },
    {
     "name": "stdout",
     "output_type": "stream",
     "text": [
      "Epoch: 12\tTraining Loss: 0.059591\tValidation Loss: 0.454355\n",
      " Training Accuracy: 98.085185\tValidation Accuracy: 89.083333\n",
      "Validation accuracy increased...........\n",
      "saving model\n"
     ]
    },
    {
     "name": "stderr",
     "output_type": "stream",
     "text": [
      "Training loss: 0.07901524007320404: 100%|██████████| 216/216 [01:56<00:00,  1.86it/s]\n",
      "  0%|          | 0/216 [00:00<?, ?it/s]"
     ]
    },
    {
     "name": "stdout",
     "output_type": "stream",
     "text": [
      "Epoch: 13\tTraining Loss: 0.079015\tValidation Loss: 0.567133\n",
      " Training Accuracy: 98.379630\tValidation Accuracy: 88.725000\n"
     ]
    },
    {
     "name": "stderr",
     "output_type": "stream",
     "text": [
      "Training loss: 0.07422249019145966: 100%|██████████| 216/216 [01:56<00:00,  1.86it/s]\n",
      "  0%|          | 0/216 [00:00<?, ?it/s]"
     ]
    },
    {
     "name": "stdout",
     "output_type": "stream",
     "text": [
      "Epoch: 14\tTraining Loss: 0.074222\tValidation Loss: 0.645536\n",
      " Training Accuracy: 98.387037\tValidation Accuracy: 88.550000\n"
     ]
    },
    {
     "name": "stderr",
     "output_type": "stream",
     "text": [
      "Training loss: 0.047912050038576126: 100%|██████████| 216/216 [01:56<00:00,  1.86it/s]\n",
      "  0%|          | 0/216 [00:00<?, ?it/s]"
     ]
    },
    {
     "name": "stdout",
     "output_type": "stream",
     "text": [
      "Epoch: 15\tTraining Loss: 0.047912\tValidation Loss: 0.521670\n",
      " Training Accuracy: 98.704630\tValidation Accuracy: 88.575000\n"
     ]
    },
    {
     "name": "stderr",
     "output_type": "stream",
     "text": [
      "Training loss: 0.07026470452547073: 100%|██████████| 216/216 [01:56<00:00,  1.86it/s]\n",
      "  0%|          | 0/216 [00:00<?, ?it/s]"
     ]
    },
    {
     "name": "stdout",
     "output_type": "stream",
     "text": [
      "Epoch: 16\tTraining Loss: 0.070265\tValidation Loss: 0.428916\n",
      " Training Accuracy: 98.935185\tValidation Accuracy: 88.283333\n"
     ]
    },
    {
     "name": "stderr",
     "output_type": "stream",
     "text": [
      "Training loss: 0.048501331359148026: 100%|██████████| 216/216 [01:55<00:00,  1.86it/s]\n",
      "  0%|          | 0/216 [00:00<?, ?it/s]"
     ]
    },
    {
     "name": "stdout",
     "output_type": "stream",
     "text": [
      "Epoch: 17\tTraining Loss: 0.048501\tValidation Loss: 0.535946\n",
      " Training Accuracy: 98.962037\tValidation Accuracy: 88.575000\n"
     ]
    },
    {
     "name": "stderr",
     "output_type": "stream",
     "text": [
      "Training loss: 0.019898030906915665: 100%|██████████| 216/216 [01:56<00:00,  1.86it/s]\n",
      "  0%|          | 0/216 [00:00<?, ?it/s]"
     ]
    },
    {
     "name": "stdout",
     "output_type": "stream",
     "text": [
      "Epoch: 18\tTraining Loss: 0.019898\tValidation Loss: 0.640199\n",
      " Training Accuracy: 99.008333\tValidation Accuracy: 88.625000\n"
     ]
    },
    {
     "name": "stderr",
     "output_type": "stream",
     "text": [
      "Training loss: 0.02527216635644436: 100%|██████████| 216/216 [01:55<00:00,  1.86it/s]\n",
      "  0%|          | 0/216 [00:00<?, ?it/s]"
     ]
    },
    {
     "name": "stdout",
     "output_type": "stream",
     "text": [
      "Epoch: 19\tTraining Loss: 0.025272\tValidation Loss: 0.645256\n",
      " Training Accuracy: 99.080556\tValidation Accuracy: 88.366667\n"
     ]
    },
    {
     "name": "stderr",
     "output_type": "stream",
     "text": [
      "Training loss: 0.04363059625029564: 100%|██████████| 216/216 [01:55<00:00,  1.86it/s]\n",
      "  0%|          | 0/216 [00:00<?, ?it/s]"
     ]
    },
    {
     "name": "stdout",
     "output_type": "stream",
     "text": [
      "Epoch: 20\tTraining Loss: 0.043631\tValidation Loss: 0.756285\n",
      " Training Accuracy: 99.061111\tValidation Accuracy: 88.541667\n"
     ]
    },
    {
     "name": "stderr",
     "output_type": "stream",
     "text": [
      "Training loss: 0.022586891427636147: 100%|██████████| 216/216 [01:55<00:00,  1.86it/s]\n",
      "  0%|          | 0/216 [00:00<?, ?it/s]"
     ]
    },
    {
     "name": "stdout",
     "output_type": "stream",
     "text": [
      "Epoch: 21\tTraining Loss: 0.022587\tValidation Loss: 0.573071\n",
      " Training Accuracy: 99.272222\tValidation Accuracy: 88.425000\n"
     ]
    },
    {
     "name": "stderr",
     "output_type": "stream",
     "text": [
      "Training loss: 0.05173691734671593: 100%|██████████| 216/216 [01:55<00:00,  1.87it/s]\n",
      "  0%|          | 0/216 [00:00<?, ?it/s]"
     ]
    },
    {
     "name": "stdout",
     "output_type": "stream",
     "text": [
      "Epoch: 22\tTraining Loss: 0.051737\tValidation Loss: 0.700650\n",
      " Training Accuracy: 99.216667\tValidation Accuracy: 88.475000\n"
     ]
    },
    {
     "name": "stderr",
     "output_type": "stream",
     "text": [
      "Training loss: 0.026471562683582306: 100%|██████████| 216/216 [01:55<00:00,  1.87it/s]\n",
      "  0%|          | 0/216 [00:00<?, ?it/s]"
     ]
    },
    {
     "name": "stdout",
     "output_type": "stream",
     "text": [
      "Epoch: 23\tTraining Loss: 0.026472\tValidation Loss: 0.654730\n",
      " Training Accuracy: 99.225000\tValidation Accuracy: 88.750000\n"
     ]
    },
    {
     "name": "stderr",
     "output_type": "stream",
     "text": [
      "Training loss: 0.0430428646504879: 100%|██████████| 216/216 [01:55<00:00,  1.87it/s]\n",
      "  0%|          | 0/216 [00:00<?, ?it/s]"
     ]
    },
    {
     "name": "stdout",
     "output_type": "stream",
     "text": [
      "Epoch: 24\tTraining Loss: 0.043043\tValidation Loss: 0.521246\n",
      " Training Accuracy: 99.316667\tValidation Accuracy: 88.283333\n"
     ]
    },
    {
     "name": "stderr",
     "output_type": "stream",
     "text": [
      "Training loss: 0.017418276518583298: 100%|██████████| 216/216 [01:55<00:00,  1.87it/s]\n",
      "  0%|          | 0/216 [00:00<?, ?it/s]"
     ]
    },
    {
     "name": "stdout",
     "output_type": "stream",
     "text": [
      "Epoch: 25\tTraining Loss: 0.017418\tValidation Loss: 0.554555\n",
      " Training Accuracy: 99.273148\tValidation Accuracy: 88.858333\n"
     ]
    },
    {
     "name": "stderr",
     "output_type": "stream",
     "text": [
      "Training loss: 0.031997982412576675: 100%|██████████| 216/216 [01:55<00:00,  1.87it/s]\n",
      "  0%|          | 0/216 [00:00<?, ?it/s]"
     ]
    },
    {
     "name": "stdout",
     "output_type": "stream",
     "text": [
      "Epoch: 26\tTraining Loss: 0.031998\tValidation Loss: 0.658842\n",
      " Training Accuracy: 99.463889\tValidation Accuracy: 88.733333\n"
     ]
    },
    {
     "name": "stderr",
     "output_type": "stream",
     "text": [
      "Training loss: 0.03211396187543869: 100%|██████████| 216/216 [01:55<00:00,  1.87it/s]\n",
      "  0%|          | 0/216 [00:00<?, ?it/s]"
     ]
    },
    {
     "name": "stdout",
     "output_type": "stream",
     "text": [
      "Epoch: 27\tTraining Loss: 0.032114\tValidation Loss: 0.642053\n",
      " Training Accuracy: 99.482407\tValidation Accuracy: 88.825000\n"
     ]
    },
    {
     "name": "stderr",
     "output_type": "stream",
     "text": [
      "Training loss: 0.007711977697908878: 100%|██████████| 216/216 [01:55<00:00,  1.87it/s]\n",
      "  0%|          | 0/216 [00:00<?, ?it/s]"
     ]
    },
    {
     "name": "stdout",
     "output_type": "stream",
     "text": [
      "Epoch: 28\tTraining Loss: 0.007712\tValidation Loss: 0.600150\n",
      " Training Accuracy: 99.459259\tValidation Accuracy: 88.650000\n"
     ]
    },
    {
     "name": "stderr",
     "output_type": "stream",
     "text": [
      "Training loss: 0.017802644520998: 100%|██████████| 216/216 [01:55<00:00,  1.86it/s]\n",
      "  0%|          | 0/216 [00:00<?, ?it/s]"
     ]
    },
    {
     "name": "stdout",
     "output_type": "stream",
     "text": [
      "Epoch: 29\tTraining Loss: 0.017803\tValidation Loss: 0.632764\n",
      " Training Accuracy: 99.514815\tValidation Accuracy: 88.658333\n"
     ]
    },
    {
     "name": "stderr",
     "output_type": "stream",
     "text": [
      "Training loss: 0.02872655726969242: 100%|██████████| 216/216 [01:55<00:00,  1.86it/s]\n",
      "  0%|          | 0/216 [00:00<?, ?it/s]"
     ]
    },
    {
     "name": "stdout",
     "output_type": "stream",
     "text": [
      "Epoch: 30\tTraining Loss: 0.028727\tValidation Loss: 0.588911\n",
      " Training Accuracy: 99.528704\tValidation Accuracy: 88.600000\n"
     ]
    },
    {
     "name": "stderr",
     "output_type": "stream",
     "text": [
      "Training loss: 0.015234913676977158: 100%|██████████| 216/216 [01:55<00:00,  1.87it/s]\n",
      "  0%|          | 0/216 [00:00<?, ?it/s]"
     ]
    },
    {
     "name": "stdout",
     "output_type": "stream",
     "text": [
      "Epoch: 31\tTraining Loss: 0.015235\tValidation Loss: 0.880937\n",
      " Training Accuracy: 99.514815\tValidation Accuracy: 88.908333\n"
     ]
    },
    {
     "name": "stderr",
     "output_type": "stream",
     "text": [
      "Training loss: 0.03331077843904495: 100%|██████████| 216/216 [01:55<00:00,  1.86it/s]\n",
      "  0%|          | 0/216 [00:00<?, ?it/s]"
     ]
    },
    {
     "name": "stdout",
     "output_type": "stream",
     "text": [
      "Epoch: 32\tTraining Loss: 0.033311\tValidation Loss: 0.608980\n",
      " Training Accuracy: 99.586111\tValidation Accuracy: 88.691667\n"
     ]
    },
    {
     "name": "stderr",
     "output_type": "stream",
     "text": [
      "Training loss: 0.031471267342567444: 100%|██████████| 216/216 [01:55<00:00,  1.87it/s]\n",
      "  0%|          | 0/216 [00:00<?, ?it/s]"
     ]
    },
    {
     "name": "stdout",
     "output_type": "stream",
     "text": [
      "Epoch: 33\tTraining Loss: 0.031471\tValidation Loss: 0.769808\n",
      " Training Accuracy: 99.561111\tValidation Accuracy: 88.775000\n"
     ]
    },
    {
     "name": "stderr",
     "output_type": "stream",
     "text": [
      "Training loss: 0.004019726067781448: 100%|██████████| 216/216 [01:55<00:00,  1.86it/s]\n",
      "  0%|          | 0/216 [00:00<?, ?it/s]"
     ]
    },
    {
     "name": "stdout",
     "output_type": "stream",
     "text": [
      "Epoch: 34\tTraining Loss: 0.004020\tValidation Loss: 0.641294\n",
      " Training Accuracy: 99.544444\tValidation Accuracy: 88.716667\n"
     ]
    },
    {
     "name": "stderr",
     "output_type": "stream",
     "text": [
      "Training loss: 0.003952352330088615: 100%|██████████| 216/216 [01:55<00:00,  1.87it/s]\n",
      "  0%|          | 0/216 [00:00<?, ?it/s]"
     ]
    },
    {
     "name": "stdout",
     "output_type": "stream",
     "text": [
      "Epoch: 35\tTraining Loss: 0.003952\tValidation Loss: 0.669192\n",
      " Training Accuracy: 99.587963\tValidation Accuracy: 88.925000\n"
     ]
    },
    {
     "name": "stderr",
     "output_type": "stream",
     "text": [
      "Training loss: 0.00879714172333479: 100%|██████████| 216/216 [01:55<00:00,  1.86it/s]\n",
      "  0%|          | 0/216 [00:00<?, ?it/s]"
     ]
    },
    {
     "name": "stdout",
     "output_type": "stream",
     "text": [
      "Epoch: 36\tTraining Loss: 0.008797\tValidation Loss: 0.681808\n",
      " Training Accuracy: 99.614815\tValidation Accuracy: 88.750000\n"
     ]
    },
    {
     "name": "stderr",
     "output_type": "stream",
     "text": [
      "Training loss: 0.018921980634331703: 100%|██████████| 216/216 [01:55<00:00,  1.87it/s]\n",
      "  0%|          | 0/216 [00:00<?, ?it/s]"
     ]
    },
    {
     "name": "stdout",
     "output_type": "stream",
     "text": [
      "Epoch: 37\tTraining Loss: 0.018922\tValidation Loss: 0.756513\n",
      " Training Accuracy: 99.676852\tValidation Accuracy: 88.875000\n"
     ]
    },
    {
     "name": "stderr",
     "output_type": "stream",
     "text": [
      "Training loss: 0.02120237611234188: 100%|██████████| 216/216 [01:55<00:00,  1.87it/s]\n",
      "  0%|          | 0/216 [00:00<?, ?it/s]"
     ]
    },
    {
     "name": "stdout",
     "output_type": "stream",
     "text": [
      "Epoch: 38\tTraining Loss: 0.021202\tValidation Loss: 0.661438\n",
      " Training Accuracy: 99.633333\tValidation Accuracy: 89.166667\n",
      "Validation accuracy increased...........\n",
      "saving model\n"
     ]
    },
    {
     "name": "stderr",
     "output_type": "stream",
     "text": [
      "Training loss: 0.023760288953781128: 100%|██████████| 216/216 [01:55<00:00,  1.86it/s]\n",
      "  0%|          | 0/216 [00:00<?, ?it/s]"
     ]
    },
    {
     "name": "stdout",
     "output_type": "stream",
     "text": [
      "Epoch: 39\tTraining Loss: 0.023760\tValidation Loss: 0.682577\n",
      " Training Accuracy: 99.601852\tValidation Accuracy: 89.166667\n",
      "Validation accuracy increased...........\n",
      "saving model\n"
     ]
    },
    {
     "name": "stderr",
     "output_type": "stream",
     "text": [
      "Training loss: 0.008698181249201298: 100%|██████████| 216/216 [01:55<00:00,  1.86it/s]\n",
      "  0%|          | 0/216 [00:00<?, ?it/s]"
     ]
    },
    {
     "name": "stdout",
     "output_type": "stream",
     "text": [
      "Epoch: 40\tTraining Loss: 0.008698\tValidation Loss: 0.804634\n",
      " Training Accuracy: 99.680556\tValidation Accuracy: 89.150000\n"
     ]
    },
    {
     "name": "stderr",
     "output_type": "stream",
     "text": [
      "Training loss: 0.025707166641950607: 100%|██████████| 216/216 [01:55<00:00,  1.87it/s]\n",
      "  0%|          | 0/216 [00:00<?, ?it/s]"
     ]
    },
    {
     "name": "stdout",
     "output_type": "stream",
     "text": [
      "Epoch: 41\tTraining Loss: 0.025707\tValidation Loss: 0.619568\n",
      " Training Accuracy: 99.667593\tValidation Accuracy: 88.933333\n"
     ]
    },
    {
     "name": "stderr",
     "output_type": "stream",
     "text": [
      "Training loss: 0.010704440996050835: 100%|██████████| 216/216 [01:55<00:00,  1.87it/s]\n",
      "  0%|          | 0/216 [00:00<?, ?it/s]"
     ]
    },
    {
     "name": "stdout",
     "output_type": "stream",
     "text": [
      "Epoch: 42\tTraining Loss: 0.010704\tValidation Loss: 0.437516\n",
      " Training Accuracy: 99.651852\tValidation Accuracy: 89.008333\n"
     ]
    },
    {
     "name": "stderr",
     "output_type": "stream",
     "text": [
      "Training loss: 0.007368821185082197: 100%|██████████| 216/216 [01:55<00:00,  1.87it/s]\n",
      "  0%|          | 0/216 [00:00<?, ?it/s]"
     ]
    },
    {
     "name": "stdout",
     "output_type": "stream",
     "text": [
      "Epoch: 43\tTraining Loss: 0.007369\tValidation Loss: 0.640866\n",
      " Training Accuracy: 99.585185\tValidation Accuracy: 88.750000\n"
     ]
    },
    {
     "name": "stderr",
     "output_type": "stream",
     "text": [
      "Training loss: 0.008103360421955585: 100%|██████████| 216/216 [01:55<00:00,  1.87it/s]\n",
      "  0%|          | 0/216 [00:00<?, ?it/s]"
     ]
    },
    {
     "name": "stdout",
     "output_type": "stream",
     "text": [
      "Epoch: 44\tTraining Loss: 0.008103\tValidation Loss: 0.667182\n",
      " Training Accuracy: 99.616667\tValidation Accuracy: 88.800000\n"
     ]
    },
    {
     "name": "stderr",
     "output_type": "stream",
     "text": [
      "Training loss: 0.004628078546375036: 100%|██████████| 216/216 [01:56<00:00,  1.86it/s]\n",
      "  0%|          | 0/216 [00:00<?, ?it/s]"
     ]
    },
    {
     "name": "stdout",
     "output_type": "stream",
     "text": [
      "Epoch: 45\tTraining Loss: 0.004628\tValidation Loss: 0.804179\n",
      " Training Accuracy: 99.725926\tValidation Accuracy: 88.933333\n"
     ]
    },
    {
     "name": "stderr",
     "output_type": "stream",
     "text": [
      "Training loss: 0.008242929354310036: 100%|██████████| 216/216 [01:56<00:00,  1.86it/s]\n",
      "  0%|          | 0/216 [00:00<?, ?it/s]"
     ]
    },
    {
     "name": "stdout",
     "output_type": "stream",
     "text": [
      "Epoch: 46\tTraining Loss: 0.008243\tValidation Loss: 0.631175\n",
      " Training Accuracy: 99.741667\tValidation Accuracy: 88.941667\n"
     ]
    },
    {
     "name": "stderr",
     "output_type": "stream",
     "text": [
      "Training loss: 0.016044041141867638: 100%|██████████| 216/216 [01:56<00:00,  1.86it/s]\n",
      "  0%|          | 0/216 [00:00<?, ?it/s]"
     ]
    },
    {
     "name": "stdout",
     "output_type": "stream",
     "text": [
      "Epoch: 47\tTraining Loss: 0.016044\tValidation Loss: 0.508698\n",
      " Training Accuracy: 99.596296\tValidation Accuracy: 89.025000\n"
     ]
    },
    {
     "name": "stderr",
     "output_type": "stream",
     "text": [
      "Training loss: 0.01338527724146843: 100%|██████████| 216/216 [01:56<00:00,  1.86it/s]\n",
      "  0%|          | 0/216 [00:00<?, ?it/s]"
     ]
    },
    {
     "name": "stdout",
     "output_type": "stream",
     "text": [
      "Epoch: 48\tTraining Loss: 0.013385\tValidation Loss: 0.941160\n",
      " Training Accuracy: 99.666667\tValidation Accuracy: 88.825000\n"
     ]
    },
    {
     "name": "stderr",
     "output_type": "stream",
     "text": [
      "Training loss: 0.008045969530940056: 100%|██████████| 216/216 [01:56<00:00,  1.86it/s]\n"
     ]
    },
    {
     "name": "stdout",
     "output_type": "stream",
     "text": [
      "Epoch: 49\tTraining Loss: 0.008046\tValidation Loss: 0.726072\n",
      " Training Accuracy: 99.663889\tValidation Accuracy: 88.916667\n"
     ]
    }
   ],
   "source": [
    "model, history = train(50,\n",
    "                       train_loader,\n",
    "                       validation_loader,\n",
    "                       model,\n",
    "                       optimizer,\n",
    "                       criterion,\n",
    "                       'weights/best_model.pt',\n",
    "                       device=device,\n",
    "                       stopping='acc',\n",
    "                       batch=BATCH\n",
    "                      )"
   ]
  },
  {
   "cell_type": "code",
   "execution_count": 9,
   "metadata": {
    "colab": {
     "base_uri": "https://localhost:8080/",
     "height": 102
    },
    "colab_type": "code",
    "id": "AfUwpVsJcjkh",
    "outputId": "e75887a7-8a7d-4d0d-aa21-35d002c9ff6a"
   },
   "outputs": [
    {
     "data": {
      "text/plain": [
       "LSTM(\n",
       "  (embed): Embedding(60432, 100)\n",
       "  (lstm): LSTM(100, 124, num_layers=5, batch_first=True, bidirectional=True)\n",
       "  (fc1): Linear(in_features=124, out_features=4, bias=True)\n",
       ")"
      ]
     },
     "execution_count": 9,
     "metadata": {
      "tags": []
     },
     "output_type": "execute_result"
    }
   ],
   "source": [
    "model = torch.load('weights/best_model.pt')\n",
    "model.to(device)"
   ]
  },
  {
   "cell_type": "code",
   "execution_count": 52,
   "metadata": {
    "colab": {},
    "colab_type": "code",
    "id": "__WfQkwCcjkj"
   },
   "outputs": [],
   "source": [
    "def plot(l1,l2,label1,label2, save='1'):\n",
    "    fig = plt.figure()\n",
    "    ax1 = fig.add_subplot(111)\n",
    "    ax1.plot(l1, label=label1)\n",
    "    ax1.plot(l2, label=label2)\n",
    "    plt.legend(loc='upper right');\n",
    "    plt.savefig(save)\n",
    "    plt.show()"
   ]
  },
  {
   "cell_type": "code",
   "execution_count": 53,
   "metadata": {
    "colab": {
     "base_uri": "https://localhost:8080/",
     "height": 485
    },
    "colab_type": "code",
    "id": "sE0OFTXWcjkl",
    "outputId": "cfcf8f54-807e-4513-e567-2f1ef9a84c51"
   },
   "outputs": [
    {
     "data": {
      "image/png": "[encoded data removed]",
      "text/plain": [
       "<Figure size 1440x576 with 1 Axes>"
      ]
     },
     "metadata": {},
     "output_type": "display_data"
    }
   ],
   "source": [
    "plot(history['training_acc'], history['validation_acc'], label1='Training acc', label2='validation acc', save='accuracy.png')"
   ]
  },
  {
   "cell_type": "code",
   "execution_count": 54,
   "metadata": {
    "colab": {
     "base_uri": "https://localhost:8080/",
     "height": 485
    },
    "colab_type": "code",
    "id": "96EcaLzTcjkm",
    "outputId": "4526501f-4dce-45be-f8cd-ca04a78a1d32"
   },
   "outputs": [
    {
     "data": {
      "image/png": "[encoded data removed]",
      "text/plain": [
       "<Figure size 1440x576 with 1 Axes>"
      ]
     },
     "metadata": {},
     "output_type": "display_data"
    }
   ],
   "source": [
    "plot(history['training_loss'], history['validation_loss'], label1='Training loss', label2='Validation loss', save='loss')"
   ]
  },
  {
   "cell_type": "markdown",
   "metadata": {
    "colab_type": "text",
    "id": "eH0dZ4mHixAB"
   },
   "source": [
    "# Test"
   ]
  },
  {
   "cell_type": "code",
   "execution_count": 6,
   "metadata": {
    "colab": {
     "base_uri": "https://localhost:8080/",
     "height": 163
    },
    "colab_type": "code",
    "id": "7OJLgse1cjko",
    "outputId": "ea2b6be5-01f9-4d8e-d276-02a7b74c0b4a"
   },
   "outputs": [
    {
     "data": {
      "text/plain": [
       "LSTM(\n",
       "  (embed): Embedding(60432, 100)\n",
       "  (lstm): LSTM(100, 124, num_layers=5, batch_first=True, bidirectional=True)\n",
       "  (fc1): Linear(in_features=124, out_features=4, bias=True)\n",
       ")"
      ]
     },
     "execution_count": 6,
     "metadata": {},
     "output_type": "execute_result"
    }
   ],
   "source": [
    "model = torch.load('weights/best_model.pt')\n",
    "model.to(device)"
   ]
  },
  {
   "cell_type": "code",
   "execution_count": 56,
   "metadata": {
    "colab": {},
    "colab_type": "code",
    "id": "hOZTLwohcjkr"
   },
   "outputs": [],
   "source": [
    "from sklearn.metrics import classification_report\n",
    "from sklearn.metrics import accuracy_score, plot_confusion_matrix, confusion_matrix\n",
    "from tqdm import tqdm"
   ]
  },
  {
   "cell_type": "code",
   "execution_count": 35,
   "metadata": {
    "colab": {},
    "colab_type": "code",
    "id": "FRh0DkLwcjkx"
   },
   "outputs": [
    {
     "name": "stdout",
     "output_type": "stream",
     "text": [
      "Test_accuracy: 0.8878947368421053\n",
      "\n",
      "              precision    recall  f1-score   support\n",
      "\n",
      "       World       0.87      0.91      0.89      1900\n",
      "      Sports       0.97      0.93      0.95      1900\n",
      "    Business       0.85      0.86      0.85      1900\n",
      "    Sci/Tech       0.87      0.85      0.86      1900\n",
      "\n",
      "    accuracy                           0.89      7600\n",
      "   macro avg       0.89      0.89      0.89      7600\n",
      "weighted avg       0.89      0.89      0.89      7600\n",
      "\n"
     ]
    }
   ],
   "source": [
    "preds_test = predict(x_test, model, vocab, device)\n",
    "report = classification_report(y_test, preds_test,labels=[0,1,2,3],target_names=['World', 'Sports', 'Business', 'Sci/Tech'])\n",
    "print(f\"Test_accuracy: {accuracy_score(y_test, preds_test)}\\n\")\n",
    "print(report)"
   ]
  },
  {
   "cell_type": "code",
   "execution_count": 52,
   "metadata": {},
   "outputs": [
    {
     "name": "stdout",
     "output_type": "stream",
     "text": [
      "tensor([82.2070,  3.4377,  3.9884, 10.3669], device='cuda:0')\n"
     ]
    },
    {
     "data": {
      "text/plain": [
       "{'World': 82, 'Sports': 3, 'Business': 3, 'Sci/Tech': 10}"
      ]
     },
     "execution_count": 52,
     "metadata": {},
     "output_type": "execute_result"
    }
   ],
   "source": [
    "#predict on description text on google news\n",
    "# https://www.nytimes.com/2020/09/14/well/live/how-flu-shots-can-help-in-the-fight-against-covid-19.html\n",
    "\n",
    "\n",
    "news = \"\"\"How Flu Shots\"\"\"\n",
    "classify(news,model,vocab,device)"
   ]
  },
  {
   "cell_type": "code",
   "execution_count": 57,
   "metadata": {},
   "outputs": [
    {
     "data": {
      "text/plain": [
       "{'World': 73, 'Sports': 26, 'Business': 0, 'Sci/Tech': 0}"
      ]
     },
     "execution_count": 57,
     "metadata": {},
     "output_type": "execute_result"
    }
   ],
   "source": [
    "#source: https://hotair.com/archives/jazz-shaw/2020/09/14/just-find-life-venus/\n",
    "news = \"\"\"\n",
    "There was quite a bit of buzz on the interwebs yesterday after some news leaked out from the British Royal Astronomical Society. \\\n",
    "\"\"\"\n",
    "classify(news,model,vocab,device)"
   ]
  },
  {
   "cell_type": "code",
   "execution_count": 56,
   "metadata": {},
   "outputs": [
    {
     "data": {
      "text/plain": [
       "{'World': 0, 'Sports': 0, 'Business': 99, 'Sci/Tech': 0}"
      ]
     },
     "execution_count": 56,
     "metadata": {},
     "output_type": "execute_result"
    }
   ],
   "source": [
    "#source: https://news.google.com/articles/CAIiEHWYBBYXYVocwnMA1nS25lsqGAgEKg8IACoHCAowjujJATDXzBUwmJS0AQ?hl=en-US&gl=US&ceid=US%3Aen\n",
    "news  = \"\"\"\n",
    "The recent pullback for stocks, or as Goldman Sachs refers to it, that “warp speed correction on the road to 3,600,” (their S&P 500 target),\n",
    "looks to be on pause for Monday, as deal news and vaccine optimism fires up markets.\n",
    "\"\"\"\n",
    "\n",
    "\n",
    "classify(news,model,vocab,device)"
   ]
  },
  {
   "cell_type": "code",
   "execution_count": 58,
   "metadata": {},
   "outputs": [
    {
     "name": "stdout",
     "output_type": "stream",
     "text": [
      "{'World': 99, 'Sports': 0, 'Business': 0, 'Sci/Tech': 0}\n"
     ]
    }
   ],
   "source": [
    "news = \"\"\"\n",
    "HIGH blood pressure affects not only a variety of body parts but can also affect the way a person feels.\n",
    "Experiencing this nervous disorder could be a signal your blood pressure is too high.\n",
    "\"\"\"\n",
    "print(classify(news,model,vocab,device))"
   ]
  },
  {
   "cell_type": "code",
   "execution_count": 63,
   "metadata": {},
   "outputs": [
    {
     "name": "stdout",
     "output_type": "stream",
     "text": [
      "{'World': 36, 'Sports': 53, 'Business': 0, 'Sci/Tech': 9}\n"
     ]
    }
   ],
   "source": [
    "# random\n",
    "news = \"\"\"word sports business\"\"\"\n",
    "print(classify(news,model,vocab,device))"
   ]
  },
  {
   "cell_type": "markdown",
   "metadata": {},
   "source": [
    "Final thoughts: \n",
    "\n",
    "This model is not so well. It doesnt capture long sentences.\n",
    "More hyperparameter tuning and more advanced networks should be use.\n",
    "But for now, this is it.\n"
   ]
  }
 ],
 "metadata": {
  "accelerator": "GPU",
  "colab": {
   "collapsed_sections": [],
   "name": "News_classification.ipynb",
   "provenance": [],
   "toc_visible": true
  },
  "kernelspec": {
   "display_name": "Python 3",
   "language": "python",
   "name": "python3"
  },
  "language_info": {
   "codemirror_mode": {
    "name": "ipython",
    "version": 3
   },
   "file_extension": ".py",
   "mimetype": "text/x-python",
   "name": "python",
   "nbconvert_exporter": "python",
   "pygments_lexer": "ipython3",
   "version": "3.8.3"
  }
 },
 "nbformat": 4,
 "nbformat_minor": 4
}
